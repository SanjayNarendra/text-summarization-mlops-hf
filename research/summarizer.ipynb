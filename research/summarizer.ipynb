{
 "cells": [
  {
   "cell_type": "code",
   "execution_count": null,
   "id": "ce22c5ae",
   "metadata": {},
   "outputs": [],
   "source": [
    "!pip install transformers[sentencepiece] datasets"
   ]
  },
  {
   "cell_type": "code",
   "execution_count": null,
   "id": "ed53b8b7",
   "metadata": {},
   "outputs": [],
   "source": [
    "!pip install --upgrade accelerate\n",
    "!pip uninstall -y transformers accelerate   # Uninstall both transformers and accelerate cleanly (to remove version conflicts)\n",
    "!pip install transformers accelerate "
   ]
  },
  {
   "cell_type": "code",
   "execution_count": null,
   "id": "6f83d3cb",
   "metadata": {},
   "outputs": [],
   "source": [
    "from transformers import pipeline\n",
    "from transformers import AutoTokenizer, AutoModelForSeq2SeqLM\n",
    "from datasets import load_dataset, load_from_disk\n",
    "import torch\n",
    "import pandas as pd\n"
   ]
  },
  {
   "cell_type": "code",
   "execution_count": null,
   "id": "3a82a65f",
   "metadata": {},
   "outputs": [],
   "source": [
    "from transformers import AutoTokenizer, PegasusForConditionalGeneration"
   ]
  },
  {
   "cell_type": "code",
   "execution_count": null,
   "id": "9874c7a4",
   "metadata": {},
   "outputs": [],
   "source": [
    "device = \"cuda\" if torch.cuda.is_available() else \"cpu\"\n",
    "device"
   ]
  },
  {
   "cell_type": "code",
   "execution_count": null,
   "id": "e37536b1",
   "metadata": {},
   "outputs": [],
   "source": [
    "model = \"google/pegasus-cnn_dailymail\"\n",
    "tokenizer = AutoTokenizer.from_pretrained(model)\n",
    "model_pegasus = AutoModelForSeq2SeqLM.from_pretrained(model).to(device)"
   ]
  },
  {
   "cell_type": "markdown",
   "id": "e87a22e5",
   "metadata": {},
   "source": [
    "dataset = load_dataset(knkarthick/samsum)\n",
    "\n",
    "dataset.save_to_disk()\n",
    "        \n",
    "logger.info(\"Saving dataset splits locally...\")\n",
    "dataset['train'].to_csv(os.path.join(self.config.root_dir, \"samsum-train.csv\"), index=False)\n",
    "dataset['test'].to_csv(os.path.join(self.config.root_dir, \"samsum-test.csv\"), index=False)\n",
    "        dataset['validation'].to_csv(os.path.join(self.config.root_dir, \"samsum-validation.csv\"), index=False)"
   ]
  },
  {
   "cell_type": "code",
   "execution_count": null,
   "id": "378a087e",
   "metadata": {},
   "outputs": [],
   "source": []
  },
  {
   "cell_type": "code",
   "execution_count": null,
   "id": "f6b070d2",
   "metadata": {},
   "outputs": [],
   "source": []
  },
  {
   "cell_type": "code",
   "execution_count": null,
   "id": "ee10be49",
   "metadata": {},
   "outputs": [],
   "source": []
  }
 ],
 "metadata": {
  "language_info": {
   "name": "python"
  }
 },
 "nbformat": 4,
 "nbformat_minor": 5
}
