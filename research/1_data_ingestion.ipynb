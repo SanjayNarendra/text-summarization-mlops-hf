{
 "cells": [
  {
   "cell_type": "markdown",
   "metadata": {},
   "source": [
    "## Data Ingestion Module"
   ]
  },
  {
   "cell_type": "code",
   "execution_count": 1,
   "metadata": {},
   "outputs": [
    {
     "data": {
      "text/plain": [
       "'c:\\\\Users\\\\sanja\\\\Desktop\\\\Data_science\\\\portfolio-projects\\\\04_NLP_LLMs\\\\text-summarization-mlops-hf\\\\research'"
      ]
     },
     "execution_count": 1,
     "metadata": {},
     "output_type": "execute_result"
    }
   ],
   "source": [
    "import os\n",
    "%pwd"
   ]
  },
  {
   "cell_type": "code",
   "execution_count": 2,
   "metadata": {},
   "outputs": [
    {
     "data": {
      "text/plain": [
       "'c:\\\\Users\\\\sanja\\\\Desktop\\\\Data_science\\\\portfolio-projects\\\\04_NLP_LLMs\\\\text-summarization-mlops-hf'"
      ]
     },
     "execution_count": 2,
     "metadata": {},
     "output_type": "execute_result"
    }
   ],
   "source": [
    "os.chdir(\"../\")\n",
    "%pwd"
   ]
  },
  {
   "cell_type": "markdown",
   "metadata": {},
   "source": [
    "### Basic configuration"
   ]
  },
  {
   "cell_type": "code",
   "execution_count": null,
   "metadata": {},
   "outputs": [],
   "source": [
    "from dataclasses import dataclass\n",
    "from pathlib import Path\n",
    "\n",
    "@dataclass\n",
    "class DataIngestionConfig:\n",
    "    root_dir: Path\n",
    "    dataset_name: str\n",
    "    raw_dataset_dir: Path\n"
   ]
  },
  {
   "cell_type": "markdown",
   "metadata": {},
   "source": [
    "### Configuration updates"
   ]
  },
  {
   "cell_type": "code",
   "execution_count": 4,
   "metadata": {},
   "outputs": [],
   "source": [
    "from src.textSummarizer.constants import *\n",
    "from src.textSummarizer.utils.common import read_yaml, create_directories\n",
    "\n",
    "\n",
    "class ConfigurationManager:\n",
    "    def __init__(self, \n",
    "                config_path = CONFIG_FILE_PATH, \n",
    "                params_filepath = PARAMS_FILE_PATH):\n",
    "\n",
    "        self.config = read_yaml(config_path)\n",
    "        self.params = read_yaml(params_filepath)\n",
    "\n",
    "        create_directories([self.config.artifacts_root])\n",
    "\n",
    "    def get_data_ingestion_config(self) -> DataIngestionConfig:\n",
    "        config = self.config.data_ingestion\n",
    "        create_directories([config.root_dir])\n",
    "        \n",
    "        data_ingestion_config = DataIngestionConfig(\n",
    "            root_dir = config.root_dir,\n",
    "            dataset_name = config.dataset_name,\n",
    "            raw_dataset_dir = config.raw_dataset_dir,\n",
    "        )\n",
    "        return data_ingestion_config\n"
   ]
  },
  {
   "cell_type": "markdown",
   "metadata": {},
   "source": [
    "### Components"
   ]
  },
  {
   "cell_type": "code",
   "execution_count": 5,
   "metadata": {},
   "outputs": [
    {
     "name": "stderr",
     "output_type": "stream",
     "text": [
      "c:\\Users\\sanja\\Desktop\\Data_science\\portfolio-projects\\04_NLP_LLMs\\text-summarization-mlops-hf\\venv\\lib\\site-packages\\tqdm\\auto.py:21: TqdmWarning: IProgress not found. Please update jupyter and ipywidgets. See https://ipywidgets.readthedocs.io/en/stable/user_install.html\n",
      "  from .autonotebook import tqdm as notebook_tqdm\n"
     ]
    }
   ],
   "source": [
    "import os\n",
    "from datasets import load_dataset\n",
    "from src.textSummarizer.logging import logger\n",
    "\n",
    "\n",
    "class DataIngestion:\n",
    "    def __init__(self, config: DataIngestionConfig):\n",
    "        self.config = config\n",
    "\n",
    "    def fetch_and_save_dataset(self):\n",
    "        logger.info(\"Loading dataset from Hugging Face...\")\n",
    "        dataset = load_dataset(self.config.dataset_name)\n",
    "\n",
    "        logger.info(\"Saving raw dataset locally...\")\n",
    "        dataset.save_to_disk(self.config.raw_dataset_dir)\n",
    "        \n",
    "        logger.info(\"Saving dataset splits locally...\")\n",
    "        dataset['train'].to_csv(os.path.join(self.config.root_dir, \"samsum-train.csv\"), index=False)\n",
    "        dataset['test'].to_csv(os.path.join(self.config.root_dir, \"samsum-test.csv\"), index=False)\n",
    "        dataset['validation'].to_csv(os.path.join(self.config.root_dir, \"samsum-validation.csv\"), index=False)\n",
    "\n",
    "        logger.info(\"Data ingestion from Hugging Face completed.\")\n"
   ]
  },
  {
   "cell_type": "code",
   "execution_count": 6,
   "metadata": {},
   "outputs": [
    {
     "name": "stdout",
     "output_type": "stream",
     "text": [
      "[2025-07-02 17:04:55,474: INFO: common: yaml file: config\\config.yaml loaded successfully]\n",
      "[2025-07-02 17:04:55,476: INFO: common: yaml file: params.yaml loaded successfully]\n",
      "[2025-07-02 17:04:55,478: INFO: common: created directory at: artifacts]\n",
      "[2025-07-02 17:04:55,479: INFO: common: created directory at: artifacts/data_ingestion]\n",
      "[2025-07-02 17:04:55,480: INFO: 1442623699: Loading dataset from Hugging Face...]\n",
      "[2025-07-02 17:04:57,863: INFO: 1442623699: Saving raw dataset locally...]\n"
     ]
    },
    {
     "name": "stderr",
     "output_type": "stream",
     "text": [
      "Saving the dataset (1/1 shards): 100%|██████████| 14732/14732 [00:00<00:00, 794773.83 examples/s]\n",
      "Saving the dataset (1/1 shards): 100%|██████████| 818/818 [00:00<00:00, 125011.50 examples/s]\n",
      "Saving the dataset (1/1 shards): 100%|██████████| 819/819 [00:00<00:00, 154554.80 examples/s]"
     ]
    },
    {
     "name": "stdout",
     "output_type": "stream",
     "text": [
      "[2025-07-02 17:04:57,917: INFO: 1442623699: Saving dataset splits locally...]\n"
     ]
    },
    {
     "name": "stderr",
     "output_type": "stream",
     "text": [
      "\n",
      "Creating CSV from Arrow format: 100%|██████████| 15/15 [00:00<00:00, 64.86ba/s]\n",
      "Creating CSV from Arrow format: 100%|██████████| 1/1 [00:00<00:00, 75.59ba/s]\n",
      "Creating CSV from Arrow format: 100%|██████████| 1/1 [00:00<00:00, 68.20ba/s]"
     ]
    },
    {
     "name": "stdout",
     "output_type": "stream",
     "text": [
      "[2025-07-02 17:04:58,195: INFO: 1442623699: Data ingestion from Hugging Face completed.]\n"
     ]
    },
    {
     "name": "stderr",
     "output_type": "stream",
     "text": [
      "\n"
     ]
    }
   ],
   "source": [
    "config = ConfigurationManager()\n",
    "data_ingestion_config = config.get_data_ingestion_config()\n",
    "data_ingestion = DataIngestion(config=data_ingestion_config)\n",
    "\n",
    "data_ingestion.fetch_and_save_dataset()\n"
   ]
  }
 ],
 "metadata": {
  "kernelspec": {
   "display_name": "venv",
   "language": "python",
   "name": "python3"
  },
  "language_info": {
   "codemirror_mode": {
    "name": "ipython",
    "version": 3
   },
   "file_extension": ".py",
   "mimetype": "text/x-python",
   "name": "python",
   "nbconvert_exporter": "python",
   "pygments_lexer": "ipython3",
   "version": "3.10.0"
  }
 },
 "nbformat": 4,
 "nbformat_minor": 2
}
